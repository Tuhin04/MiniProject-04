{
  "nbformat": 4,
  "nbformat_minor": 0,
  "metadata": {
    "colab": {
      "provenance": [],
      "authorship_tag": "ABX9TyOWEvZZ4tDr6vIXLMIPz1eu",
      "include_colab_link": true
    },
    "kernelspec": {
      "name": "python3",
      "display_name": "Python 3"
    },
    "language_info": {
      "name": "python"
    }
  },
  "cells": [
    {
      "cell_type": "markdown",
      "metadata": {
        "id": "view-in-github",
        "colab_type": "text"
      },
      "source": [
        "<a href=\"https://colab.research.google.com/github/Tuhin04/MiniProject-04/blob/main/MiniProject.ipynb\" target=\"_parent\"><img src=\"https://colab.research.google.com/assets/colab-badge.svg\" alt=\"Open In Colab\"/></a>"
      ]
    },
    {
      "cell_type": "markdown",
      "source": [
        "**--------------------------------------------------------------------------------------\n",
        "Mini Project – Marks Adding\n",
        "-----------------------------------------------------------------------------------------------------------------------------\n",
        "• Input file contain Roll numbers and marks.\n",
        "• Create output file that add all the marks**"
      ],
      "metadata": {
        "id": "KlQPWKMQ7ez5"
      }
    },
    {
      "cell_type": "code",
      "execution_count": null,
      "metadata": {
        "id": "3NKsrqUK6vZ1"
      },
      "outputs": [],
      "source": [
        "input_file = \"input.txt\"\n",
        "output_file = \"output.txt\"\n",
        "\n",
        "marks_sum = 0\n",
        "\n",
        "with open(input_file, \"r\") as file:\n",
        "    lines = file.readlines()\n",
        "    for line in lines:\n",
        "        roll_number, marks = line.strip().split(\",\")\n",
        "        marks_sum += int(marks)\n",
        "\n",
        "with open(output_file, \"w\") as file:\n",
        "    file.write(f\"Total marks: {marks_sum}\")\n",
        "\n",
        "print(\"Marks added successfully!\")\n"
      ]
    }
  ]
}